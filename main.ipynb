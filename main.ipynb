{
 "cells": [
  {
   "cell_type": "code",
   "execution_count": 1,
   "metadata": {},
   "outputs": [],
   "source": [
    "import scipy.stats as std\n",
    "import numpy as np"
   ]
  },
  {
   "cell_type": "code",
   "execution_count": 2,
   "metadata": {},
   "outputs": [
    {
     "name": "stdout",
     "output_type": "stream",
     "text": [
      "Null Hypothesis (H₀): The mean systolic blood pressure is 120 mm Hg\n",
      "Alternate Hypothesis (H₁): The mean systolic blood pressure is not 120 mm Hg\n"
     ]
    }
   ],
   "source": [
    "# Hypotheses\n",
    "null_hypothesis = \"The mean systolic blood pressure is 120 mm Hg\"  # H₀\n",
    "alt_hypothesis = \"The mean systolic blood pressure is not 120 mm Hg\"  # H₁\n",
    "\n",
    "print(f\"Null Hypothesis (H₀): {null_hypothesis}\")\n",
    "print(f\"Alternate Hypothesis (H₁): {alt_hypothesis}\")"
   ]
  },
  {
   "cell_type": "code",
   "execution_count": 3,
   "metadata": {},
   "outputs": [
    {
     "name": "stdout",
     "output_type": "stream",
     "text": [
      "Level of Significance (α): 0.05\n"
     ]
    }
   ],
   "source": [
    "# Significance level\n",
    "alpha = 0.05\n",
    "print(f\"Level of Significance (α): {alpha}\")"
   ]
  },
  {
   "cell_type": "code",
   "execution_count": 4,
   "metadata": {},
   "outputs": [
    {
     "name": "stdout",
     "output_type": "stream",
     "text": [
      "t-test since we don't have the population std\n",
      "Test Statistic (t): 4.715\n"
     ]
    }
   ],
   "source": [
    "mean_pop = 120\n",
    "mean_sample = 130\n",
    "s = 21.21\n",
    "n = 100\n",
    "\n",
    "print(\"t-test since we don't have the population std\")\n",
    "\n",
    "# Calculate the t-statistic\n",
    "t_stat = (mean_sample - mean_pop) / (s / np.sqrt(n))\n",
    "print(f\"Test Statistic (t): {t_stat:.3f}\")"
   ]
  },
  {
   "cell_type": "code",
   "execution_count": 5,
   "metadata": {},
   "outputs": [
    {
     "name": "stdout",
     "output_type": "stream",
     "text": [
      "P-Value: 0.0000079319\n"
     ]
    }
   ],
   "source": [
    "# p-Value for Two-Tailed Test\n",
    "p_value = std.t.sf(np.abs(t_stat), df=n-1) * 2\n",
    "print(f\"P-Value: {p_value:.10f}\")"
   ]
  },
  {
   "cell_type": "code",
   "execution_count": 6,
   "metadata": {},
   "outputs": [
    {
     "name": "stdout",
     "output_type": "stream",
     "text": [
      "Reject the Null Hypothesis: There is evidence to say the mean systolic blood pressure is different  from 120 mm Hg.\n"
     ]
    }
   ],
   "source": [
    "if p_value > alpha:\n",
    "    print(\"Fail to Reject the Null Hypothesis: Not enough evidence to say the mean systolic blood pressure is different  from 120 mm Hg.\")\n",
    "else:\n",
    "    print(\"Reject the Null Hypothesis: There is evidence to say the mean systolic blood pressure is different  from 120 mm Hg.\")\n"
   ]
  }
 ],
 "metadata": {
  "kernelspec": {
   "display_name": "Python 3",
   "language": "python",
   "name": "python3"
  },
  "language_info": {
   "codemirror_mode": {
    "name": "ipython",
    "version": 3
   },
   "file_extension": ".py",
   "mimetype": "text/x-python",
   "name": "python",
   "nbconvert_exporter": "python",
   "pygments_lexer": "ipython3",
   "version": "3.13.2"
  }
 },
 "nbformat": 4,
 "nbformat_minor": 2
}
